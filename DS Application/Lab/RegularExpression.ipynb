{
 "cells": [
  {
   "cell_type": "code",
   "execution_count": 1,
   "metadata": {},
   "outputs": [],
   "source": [
    "import re"
   ]
  },
  {
   "cell_type": "code",
   "execution_count": 11,
   "metadata": {},
   "outputs": [],
   "source": [
    "text='''\n",
    "Sport pertains to any form of physical activity or game,[1] often competitive and organized, \n",
    "that aims to use, maintain, or improve physical ability and skills while providing enjoyment to participants and, Sport\n",
    "in some cases, entertainment to spectators.[2] Sports can, through casual or organized participation, improve participants'\n",
    "physical health. Hundreds of sports exist, from those between single contestants, Wport\n",
    "through to those with hundreds of simultaneous participants, either in teams or competing as individuals.\n",
    "'''"
   ]
  },
  {
   "cell_type": "code",
   "execution_count": 12,
   "metadata": {},
   "outputs": [],
   "source": [
    "pattern=    r\"[A-Z]+port\""
   ]
  },
  {
   "cell_type": "code",
   "execution_count": 13,
   "metadata": {},
   "outputs": [
    {
     "data": {
      "text/plain": [
       "<re.Match object; span=(1, 6), match='Sport'>"
      ]
     },
     "execution_count": 13,
     "metadata": {},
     "output_type": "execute_result"
    }
   ],
   "source": [
    "re.search(pattern,text)   #it will stop when first word is find"
   ]
  },
  {
   "cell_type": "code",
   "execution_count": 18,
   "metadata": {},
   "outputs": [
    {
     "name": "stdout",
     "output_type": "stream",
     "text": [
      "(1, 6)\n",
      "(209, 214)\n",
      "(262, 267)\n",
      "(421, 426)\n"
     ]
    }
   ],
   "source": [
    "matches=re.finditer(pattern,text)\n",
    "for match in matches:\n",
    "    print(match.span())\n",
    "    "
   ]
  },
  {
   "cell_type": "code",
   "execution_count": 20,
   "metadata": {},
   "outputs": [
    {
     "name": "stdout",
     "output_type": "stream",
     "text": [
      "<class 'tuple'>\n",
      "<class 'tuple'>\n",
      "<class 'tuple'>\n",
      "<class 'tuple'>\n"
     ]
    }
   ],
   "source": [
    "matches=re.finditer(pattern,text)\n",
    "for match in matches:\n",
    "    print(type(match.span()))"
   ]
  },
  {
   "cell_type": "code",
   "execution_count": 22,
   "metadata": {},
   "outputs": [
    {
     "name": "stdout",
     "output_type": "stream",
     "text": [
      "S\n",
      "S\n",
      "S\n",
      "W\n"
     ]
    }
   ],
   "source": [
    "matches=re.finditer(pattern,text)\n",
    "for match in matches:\n",
    "    print(text[match.span()[0]])"
   ]
  },
  {
   "cell_type": "code",
   "execution_count": 21,
   "metadata": {},
   "outputs": [
    {
     "name": "stdout",
     "output_type": "stream",
     "text": [
      "Sport\n",
      "Sport\n",
      "Sport\n",
      "Wport\n"
     ]
    }
   ],
   "source": [
    "matches=re.finditer(pattern,text)\n",
    "for match in matches:\n",
    "    print(text[match.span()[0]:match.span()[1]])"
   ]
  },
  {
   "cell_type": "code",
   "execution_count": null,
   "metadata": {},
   "outputs": [],
   "source": []
  }
 ],
 "metadata": {
  "kernelspec": {
   "display_name": "base",
   "language": "python",
   "name": "python3"
  },
  "language_info": {
   "codemirror_mode": {
    "name": "ipython",
    "version": 3
   },
   "file_extension": ".py",
   "mimetype": "text/x-python",
   "name": "python",
   "nbconvert_exporter": "python",
   "pygments_lexer": "ipython3",
   "version": "3.11.5"
  }
 },
 "nbformat": 4,
 "nbformat_minor": 2
}
