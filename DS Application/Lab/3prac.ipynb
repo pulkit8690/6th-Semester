{
 "cells": [
  {
   "cell_type": "code",
   "execution_count": null,
   "metadata": {},
   "outputs": [],
   "source": [
    "import pandas as pd\n",
    "\n",
    "# Import the pandas library, which is commonly used for data manipulation and analysis in Python.\n",
    "\n",
    "data = pd.read_pickle('dtm.pkl')\n",
    "\n",
    "# Read the data from the 'dtm.pkl' file into a pandas DataFrame. \n",
    "# The 'read_pickle' function is used to load pickled objects (in this case, a DataFrame) from a file.\n",
    "\n",
    "data = data.transpose()\n",
    "\n",
    "# Transpose the DataFrame using the 'transpose' method. \n",
    "# This operation swaps the rows and columns of the DataFrame, which can be useful for certain types of analysis or data manipulation.\n",
    "\n",
    "data.head()\n",
    "\n",
    "# Display the first few rows of the transposed DataFrame using the 'head' method. \n",
    "# This allows us to inspect the structure and content of the DataFrame.\n"
   ]
  },
  {
   "cell_type": "code",
   "execution_count": null,
   "metadata": {},
   "outputs": [],
   "source": [
    "# Initialize an empty dictionary to store the top 30 words for each politician\n",
    "top_dict = {}\n",
    "\n",
    "# Iterate over each column (politician) in the DataFrame\n",
    "for c in data.columns:\n",
    "    # Sort the values in descending order and select the top 30 words\n",
    "    top = data[c].sort_values(ascending=False).head(30)\n",
    "    \n",
    "    # Create a list of tuples containing the top 30 words and their frequencies\n",
    "    top_dict[c] = list(zip(top.index, top.values))\n",
    "\n",
    "# Display the dictionary containing the top 30 words for each politician\n",
    "top_dict\n"
   ]
  },
  {
   "cell_type": "code",
   "execution_count": null,
   "metadata": {},
   "outputs": [],
   "source": [
    "from collections import Counter\n",
    "\n",
    "# Initialize an empty list to store words\n",
    "words = []\n",
    "\n",
    "# Iterate over each politician\n",
    "for politician in data.columns:\n",
    "    # Extract the top words for the politician from the top_dict dictionary\n",
    "    top = [word for (word, count) in top_dict[politician]]\n",
    "    # Add the top words to the words list\n",
    "    for t in top:\n",
    "        words.append(t)\n",
    "\n",
    "# Count the occurrences of each word and select those occurring more than 6 times\n",
    "word_counts = Counter(words).most_common()\n",
    "add_stop_words = [word for word, count in word_counts if count > 6]\n",
    "add_stop_words\n"
   ]
  },
  {
   "cell_type": "code",
   "execution_count": null,
   "metadata": {},
   "outputs": [],
   "source": [
    "Counter(words).most_common()"
   ]
  },
  {
   "cell_type": "code",
   "execution_count": null,
   "metadata": {},
   "outputs": [],
   "source": [
    "add_stop_words = [word for word, count in Counter(words).most_common() if count > 6]\n",
    "add_stop_words.append('t')\n",
    "add_stop_words"
   ]
  },
  {
   "cell_type": "code",
   "execution_count": null,
   "metadata": {},
   "outputs": [],
   "source": [
    "#4 # Import necessary libraries\n",
    "from sklearn.feature_extraction import text \n",
    "from sklearn.feature_extraction.text import CountVectorizer\n",
    "\n",
    "# Read in the cleaned data\n",
    "data_clean = pd.read_pickle('data_clean.pkl')\n",
    "\n",
    "# Add new stop words to the existing stop words\n",
    "stop_words = list(text.ENGLISH_STOP_WORDS.union(add_stop_words))\n",
    "\n",
    "# Initialize a CountVectorizer object with the updated stop words\n",
    "cv = CountVectorizer(stop_words=stop_words)\n",
    "\n",
    "# Fit and transform the data using the CountVectorizer\n",
    "data_cv = cv.fit_transform(data_clean.transcript)\n",
    "\n",
    "# Convert the transformed data into a DataFrame\n",
    "data_stop = pd.DataFrame(data_cv.toarray(), columns=cv.get_feature_names_out())\n",
    "\n",
    "# Set the index of the DataFrame to match the index of the cleaned data\n",
    "data_stop.index = data_clean.index\n",
    "\n",
    "# Pickle the CountVectorizer object for later use\n",
    "import pickle\n",
    "pickle.dump(cv, open(\"cv_stop.pkl\", \"wb\"))\n",
    "\n",
    "# Pickle the transformed data for later use\n",
    "data_stop.to_pickle(\"dtm_stop.pkl\")\n"
   ]
  },
  {
   "cell_type": "code",
   "execution_count": null,
   "metadata": {},
   "outputs": [],
   "source": [
    "# Let's make some word clouds!\n",
    "# Terminal / Anaconda Prompt: conda install -c conda-forge wordcloud\n",
    "from wordcloud import WordCloud\n",
    "\n",
    "wc = WordCloud(stopwords=stop_words, background_color=\"white\", colormap=\"Dark2\",\n",
    "               max_font_size=150, random_state=42)"
   ]
  },
  {
   "cell_type": "code",
   "execution_count": null,
   "metadata": {},
   "outputs": [],
   "source": [
    "import matplotlib.pyplot as plt\n",
    "\n",
    "# Set the default figure size for plots\n",
    "plt.rcParams['figure.figsize'] = [16, 6]\n",
    "\n",
    "# List of full names corresponding to each politician\n",
    "full_names = ['Abraham Lincoln','BR Ambedkar', 'Boris Johnson','Willy Brandt','Desmond Tutu','Franklin Roosevelt','Mahatama Gandhi','Nelson Mandela','Margaret Thatcher',\n",
    "              'Donald Trump','George Washington','Winston Churchill']\n",
    "\n",
    "# Create subplots for each politician's word cloud\n",
    "for index, politician in enumerate(data.columns):\n",
    "    # Generate a word cloud for the current politician's transcript\n",
    "    wc.generate(data_clean.transcript[politician])\n",
    "    \n",
    "    # Create a subplot for the current politician\n",
    "    plt.subplot(3, 4, index+1)\n",
    "    \n",
    "    # Display the word cloud with bilinear interpolation\n",
    "    plt.imshow(wc, interpolation=\"bilinear\")\n",
    "    \n",
    "    # Turn off axis for cleaner presentation\n",
    "    plt.axis(\"off\")\n",
    "    \n",
    "    # Set title for the subplot with the politician's full name\n",
    "    plt.title(full_names[index])\n",
    "    \n",
    "# Show the plot with all subplots\n",
    "plt.show()\n"
   ]
  },
  {
   "cell_type": "code",
   "execution_count": null,
   "metadata": {},
   "outputs": [],
   "source": [
    "# Identify the non-zero items in the document-term matrix, meaning that the word occurs at least once\n",
    "import numpy as np\n",
    "\n",
    "# Initialize an empty list to store unique word counts for each politician\n",
    "unique_list = []\n",
    "\n",
    "# Iterate over each politician's column in the document-term matrix\n",
    "for politician in data.columns:\n",
    "    # Count the non-zero items in the politician's transcript and append to the list\n",
    "    unique_list.append(np.count_nonzero(data[politician].to_numpy()))\n",
    "\n",
    "# Create a new DataFrame that contains the count of unique words for each politician\n",
    "data_words = pd.DataFrame(list(zip(full_names, unique_list)), columns=['politician', 'unique_words'])\n",
    "\n",
    "# Sort the DataFrame based on the number of unique words used by each politician\n",
    "data_unique_sort = data_words.sort_values(by='unique_words')\n",
    "data_unique_sort\n"
   ]
  },
  {
   "cell_type": "code",
   "execution_count": null,
   "metadata": {},
   "outputs": [],
   "source": [
    "import plotly.express as px\n",
    "\n",
    "# Assuming 'data_unique_sort' is the DataFrame containing unique word counts\n",
    "fig = px.bar(data_unique_sort, x='politician', y='unique_words', title='Unique Words Count for Each politician', labels={'politician': 'politician', 'unique_words': 'Unique Words Count'})\n",
    "\n",
    "# Add hover data for better interactivity\n",
    "fig.update_traces(hovertemplate='politician: %{x}<br>Unique Words Count: %{y}')\n",
    "\n",
    "# Set layout parameters for better appearance\n",
    "fig.update_layout(xaxis_title='politician', yaxis_title='Unique Words Count', xaxis_tickangle=-45, showlegend=False)\n",
    "\n",
    "# Show the plot\n",
    "fig.show()\n"
   ]
  }
 ],
 "metadata": {
  "language_info": {
   "name": "python"
  }
 },
 "nbformat": 4,
 "nbformat_minor": 2
}
