{
 "cells": [
  {
   "cell_type": "code",
   "execution_count": 1,
   "metadata": {},
   "outputs": [
    {
     "name": "stderr",
     "output_type": "stream",
     "text": [
      "C:\\Users\\pulki\\AppData\\Local\\Temp\\ipykernel_9504\\2162656668.py:1: DeprecationWarning: \n",
      "Pyarrow will become a required dependency of pandas in the next major release of pandas (pandas 3.0),\n",
      "(to allow more performant data types, such as the Arrow string type, and better interoperability with other libraries)\n",
      "but was not found to be installed on your system.\n",
      "If this would cause problems for you,\n",
      "please provide us feedback at https://github.com/pandas-dev/pandas/issues/54466\n",
      "        \n",
      "  import pandas as pd\n"
     ]
    }
   ],
   "source": [
    "import pandas as pd\n",
    "import numpy as np"
   ]
  },
  {
   "cell_type": "code",
   "execution_count": 2,
   "metadata": {},
   "outputs": [],
   "source": [
    "def normalize_matrix(matrix):\n",
    "    \"\"\"\n",
    "    Normalize the decision matrix.\n",
    "    \"\"\"\n",
    "    return matrix / np.linalg.norm(matrix, axis=0)"
   ]
  },
  {
   "cell_type": "code",
   "execution_count": 3,
   "metadata": {},
   "outputs": [],
   "source": [
    "def weighted_normalized_matrix(normalized_matrix, weights):\n",
    "    \"\"\"\n",
    "    Multiply the normalized matrix by the weights.\n",
    "    \"\"\"\n",
    "    return normalized_matrix * weights"
   ]
  },
  {
   "cell_type": "code",
   "execution_count": 16,
   "metadata": {},
   "outputs": [],
   "source": [
    "def ideal_best_worst(matrix, is_best_criteria):\n",
    "    \"\"\"\n",
    "    Calculate the ideal best and worst solutions.\n",
    "    \"\"\"\n",
    "    if np.any(is_best_criteria):\n",
    "        return np.max(matrix, axis=0), np.min(matrix, axis=0)\n",
    "    else:\n",
    "        return np.min(matrix, axis=0), np.max(matrix, axis=0)\n"
   ]
  },
  {
   "cell_type": "code",
   "execution_count": 5,
   "metadata": {},
   "outputs": [],
   "source": [
    "def euclidean_distance(matrix, ideal_solution):\n",
    "    \"\"\"\n",
    "    Calculate the Euclidean distance of each alternative from the ideal solution.\n",
    "    \"\"\"\n",
    "    return np.linalg.norm(matrix - ideal_solution, axis=1)"
   ]
  },
  {
   "cell_type": "code",
   "execution_count": 6,
   "metadata": {},
   "outputs": [],
   "source": [
    "def performance_score(ideal_best, ideal_worst, distance_best, distance_worst):\n",
    "    \"\"\"\n",
    "    Calculate the performance score for each alternative.\n",
    "    \"\"\"\n",
    "    return distance_worst / (distance_best + distance_worst)"
   ]
  },
  {
   "cell_type": "code",
   "execution_count": 7,
   "metadata": {},
   "outputs": [],
   "source": [
    "def topsis_ranking(matrix, weights, is_best_criteria):\n",
    "    \"\"\"\n",
    "    Perform TOPSIS analysis and return the ranking.\n",
    "    \"\"\"\n",
    "    normalized_matrix = normalize_matrix(matrix)\n",
    "    weighted_matrix = weighted_normalized_matrix(normalized_matrix, weights)\n",
    "\n",
    "    ideal_best, ideal_worst = ideal_best_worst(weighted_matrix, is_best_criteria)\n",
    "\n",
    "    distance_best = euclidean_distance(weighted_matrix, ideal_best)\n",
    "    distance_worst = euclidean_distance(weighted_matrix, ideal_worst)\n",
    "\n",
    "    scores = performance_score(ideal_best, ideal_worst, distance_best, distance_worst)\n",
    "\n",
    "    # Rank the alternatives based on their scores\n",
    "    ranking = np.argsort(scores)[::-1] + 1  # Adding 1 to start ranking from 1\n",
    "\n",
    "    return ranking"
   ]
  },
  {
   "cell_type": "code",
   "execution_count": 17,
   "metadata": {},
   "outputs": [
    {
     "name": "stdout",
     "output_type": "stream",
     "text": [
      "TOPSIS Ranking: [6 5 1 2 4 3 8 7]\n"
     ]
    }
   ],
   "source": [
    "# Example usage:\n",
    "mydata = pd.read_csv('data.csv')\n",
    "d = mydata.iloc[:, 1:].values  # Drop the first column\n",
    "\n",
    "# Specify whether each criterion is a best or worst criterion\n",
    "is_best_criteria = np.array([True, True, False, True])\n",
    "\n",
    "\n",
    "# Specify the impact factors\n",
    "weights = np.array([1, 1, 1, 1,1])\n",
    "\n",
    "# Check if the number of weights matches the number of columns in the decision matrix\n",
    "if len(weights) != d.shape[1]:\n",
    "    raise ValueError(\"Number of weights should match the number of columns in the decision matrix.\")\n",
    "\n",
    "# Perform TOPSIS analysis\n",
    "topsis_rank = topsis_ranking(d, weights, is_best_criteria)\n",
    "\n",
    "# Print the ranking\n",
    "print(\"TOPSIS Ranking:\", topsis_rank)\n"
   ]
  }
 ],
 "metadata": {
  "kernelspec": {
   "display_name": "Python 3",
   "language": "python",
   "name": "python3"
  },
  "language_info": {
   "codemirror_mode": {
    "name": "ipython",
    "version": 3
   },
   "file_extension": ".py",
   "mimetype": "text/x-python",
   "name": "python",
   "nbconvert_exporter": "python",
   "pygments_lexer": "ipython3",
   "version": "3.12.1"
  }
 },
 "nbformat": 4,
 "nbformat_minor": 2
}
