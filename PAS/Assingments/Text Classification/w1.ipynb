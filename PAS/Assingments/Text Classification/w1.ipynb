{
 "cells": [
  {
   "cell_type": "code",
   "execution_count": 28,
   "metadata": {},
   "outputs": [
    {
     "name": "stdout",
     "output_type": "stream",
     "text": [
      "                                                 text     label\n",
      "0   This movie is amazing! I loved the plot and th...  Positive\n",
      "1   The weather is fantastic today. Perfect for ou...  Positive\n",
      "2   I'm not sure if I like this new product. It's ...  Negative\n",
      "3    Feeling great after the morning workout session.  Positive\n",
      "4   The customer service was terrible. I had a bad...  Negative\n",
      "5   Just finished reading the latest novel. Highly...  Positive\n",
      "6   I absolutely enjoyed the concert. The music wa...  Positive\n",
      "7   Spent the day at the beach. Such a relaxing ti...  Positive\n",
      "8   The software update is causing issues. Not hap...  Negative\n",
      "9   Excited about the upcoming vacation. Can't wai...  Positive\n",
      "10  Received excellent service at the restaurant. ...  Positive\n",
      "11  Disappointed with the latest smartphone. It ha...  Negative\n",
      "12  Attended a thrilling sports event. The atmosph...  Positive\n",
      "13  Trying out a new recipe for dinner. Hope it tu...  Positive\n",
      "14  Unhappy with the long wait at the doctor's off...  Negative\n",
      "15  Just finished a challenging workout. Feeling a...  Positive\n",
      "16  Impressed with the new book. The storyline is ...  Positive\n",
      "17  Had a wonderful time at the family gathering. ...  Positive\n",
      "18  Dealing with technical difficulties at work. I...  Negative\n",
      "19  Visited a new art exhibition. Some incredible ...  Positive\n",
      "20  Thrilled about the job promotion. Hard work pa...  Positive\n",
      "21  The traffic was terrible today. Late for an im...  Negative\n",
      "22  Binge-watched a TV series over the weekend. Ad...  Positive\n",
      "23  Attended a thought-provoking seminar. Learned ...  Positive\n",
      "24  Displeased with the quality of the purchased p...  Negative\n",
      "25  Enjoying the peaceful moments in nature. A per...  Positive\n"
     ]
    }
   ],
   "source": [
    "import pandas as pd\n",
    "\n",
    "# Create a test dataset\n",
    "test_data = {\n",
    "    'text': [\n",
    "        \"This movie is amazing! I loved the plot and the acting.\",\n",
    "        \"The weather is fantastic today. Perfect for outdoor activities.\",\n",
    "        \"I'm not sure if I like this new product. It's not meeting my expectations.\",\n",
    "        \"Feeling great after the morning workout session.\",\n",
    "        \"The customer service was terrible. I had a bad experience.\",\n",
    "        \"Just finished reading the latest novel. Highly recommended!\",\n",
    "        \"I absolutely enjoyed the concert. The music was fantastic!\",\n",
    "        \"Spent the day at the beach. Such a relaxing time with friends.\",\n",
    "        \"The software update is causing issues. Not happy with it.\",\n",
    "        \"Excited about the upcoming vacation. Can't wait to explore new places.\",\n",
    "        \"Received excellent service at the restaurant. Highly recommended.\",\n",
    "        \"Disappointed with the latest smartphone. It has several issues.\",\n",
    "        \"Attended a thrilling sports event. The atmosphere was electric!\",\n",
    "        \"Trying out a new recipe for dinner. Hope it turns out delicious.\",\n",
    "        \"Unhappy with the long wait at the doctor's office. Frustrating experience.\",\n",
    "        \"Just finished a challenging workout. Feeling accomplished.\",\n",
    "        \"Impressed with the new book. The storyline is captivating.\",\n",
    "        \"Had a wonderful time at the family gathering. Lots of laughter and joy.\",\n",
    "        \"Dealing with technical difficulties at work. It's causing stress.\",\n",
    "        \"Visited a new art exhibition. Some incredible pieces on display.\",\n",
    "        \"Thrilled about the job promotion. Hard work pays off!\",\n",
    "        \"The traffic was terrible today. Late for an important meeting.\",\n",
    "        \"Binge-watched a TV series over the weekend. Addicted to it now.\",\n",
    "        \"Attended a thought-provoking seminar. Learned a lot.\",\n",
    "        \"Displeased with the quality of the purchased product. Disappointing.\",\n",
    "        \"Enjoying the peaceful moments in nature. A perfect escape.\"\n",
    "        \n",
    "    ],\n",
    "    'label': ['Positive', 'Positive', 'Negative', 'Positive', 'Negative', 'Positive',\n",
    "              'Positive', 'Positive', 'Negative', 'Positive', 'Positive', 'Negative',\n",
    "              'Positive', 'Positive', 'Negative', 'Positive', 'Positive', 'Positive',\n",
    "              'Negative', 'Positive', 'Positive', 'Negative', 'Positive', 'Positive',\n",
    "              'Negative', 'Positive']\n",
    "}\n",
    "\n",
    "# Create a DataFrame from the dictionary\n",
    "test_df = pd.DataFrame(test_data)\n",
    "\n",
    "# Save the DataFrame to a CSV file\n",
    "test_df.to_csv('test_text_classification_dataset.csv', index=False)\n",
    "\n",
    "# Display the test dataset\n",
    "print(test_df)\n"
   ]
  },
  {
   "cell_type": "code",
   "execution_count": 29,
   "metadata": {},
   "outputs": [],
   "source": [
    "from transformers import AutoTokenizer, AutoModelForSequenceClassification\n",
    "from sklearn.metrics import accuracy_score, precision_score, recall_score, f1_score\n",
    "import pandas as pd"
   ]
  }
 ],
 "metadata": {
  "kernelspec": {
   "display_name": "base",
   "language": "python",
   "name": "python3"
  },
  "language_info": {
   "codemirror_mode": {
    "name": "ipython",
    "version": 3
   },
   "file_extension": ".py",
   "mimetype": "text/x-python",
   "name": "python",
   "nbconvert_exporter": "python",
   "pygments_lexer": "ipython3",
   "version": "3.11.5"
  }
 },
 "nbformat": 4,
 "nbformat_minor": 2
}
